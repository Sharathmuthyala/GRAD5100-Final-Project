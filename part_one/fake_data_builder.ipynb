{
 "cells": [
  {
   "cell_type": "code",
   "execution_count": 1,
   "id": "459fcd9b",
   "metadata": {},
   "outputs": [],
   "source": [
    "import numpy as np\n",
    "import pandas as pd\n",
    "import random\n",
    "import scipy.stats as sps\n",
    "import matplotlib.pyplot as plt\n",
    "\n",
    "random.seed(45)  "
   ]
  },
  {
   "cell_type": "markdown",
   "id": "50edfa34",
   "metadata": {},
   "source": [
    "Generating an 'ID Feature' consisting of 800 data entries, followed by random rearrangement of these data points."
   ]
  },
  {
   "cell_type": "code",
   "execution_count": 2,
   "id": "ccc476df",
   "metadata": {},
   "outputs": [],
   "source": [
    "n=800\n",
    "ids=list(\"ID\"+str(i+100) for i in range(1,n+1))\n",
    "random.shuffle(ids)"
   ]
  },
  {
   "cell_type": "markdown",
   "id": "043da04a",
   "metadata": {},
   "source": [
    "Forming three distinct groups labeled A, B, and C, followed by a random mixing of these groups."
   ]
  },
  {
   "cell_type": "code",
   "execution_count": 3,
   "id": "023954f7",
   "metadata": {},
   "outputs": [],
   "source": [
    "groups = np.repeat(['A', 'B', 'C'], repeats=[267, 267, 266])\n",
    "random.shuffle(groups)"
   ]
  },
  {
   "cell_type": "markdown",
   "id": "4360d8bc",
   "metadata": {},
   "source": [
    "Generating 'Feature_1' by randomly drawing samples from a normal distribution characterized by a mean of 2500 and a standard deviation of 300."
   ]
  },
  {
   "cell_type": "code",
   "execution_count": 4,
   "id": "9b7c5477",
   "metadata": {},
   "outputs": [
    {
     "data": {
      "text/plain": [
       "2513.0278946888175"
      ]
     },
     "execution_count": 4,
     "metadata": {},
     "output_type": "execute_result"
    }
   ],
   "source": [
    "mean = 2500\n",
    "std = 300\n",
    "variable_1 = sps.norm.rvs(mean, std, size=n)\n",
    "variable_1.mean()"
   ]
  },
  {
   "cell_type": "markdown",
   "id": "199599de",
   "metadata": {},
   "source": [
    "Generating 'Feature_2' by selecting samples at random from a normal distribution, which has a mean value of 400 and a standard deviation of 15."
   ]
  },
  {
   "cell_type": "code",
   "execution_count": 5,
   "id": "163d4f09",
   "metadata": {},
   "outputs": [
    {
     "data": {
      "text/plain": [
       "400.0191724147806"
      ]
     },
     "execution_count": 5,
     "metadata": {},
     "output_type": "execute_result"
    }
   ],
   "source": [
    "mean = 400\n",
    "std = 15\n",
    "variable_2 = sps.norm.rvs(mean, std, size=n)\n",
    "variable_2.mean()"
   ]
  },
  {
   "cell_type": "markdown",
   "id": "b6334d57",
   "metadata": {},
   "source": [
    "Formulating a DataFrame that incorporates columns for 'ID', 'Group', 'Feature_1', and 'Feature_2'."
   ]
  },
  {
   "cell_type": "code",
   "execution_count": 6,
   "id": "519cebaa",
   "metadata": {},
   "outputs": [
    {
     "data": {
      "text/plain": [
       "Group\n",
       "B    267\n",
       "A    267\n",
       "C    266\n",
       "Name: count, dtype: int64"
      ]
     },
     "execution_count": 6,
     "metadata": {},
     "output_type": "execute_result"
    }
   ],
   "source": [
    "fake_data = pd.DataFrame({\"ID\":ids,\"Group\":groups,\"Feature_1\":variable_1,\"Feature_2\":variable_2})\n",
    "fake_data['Group'].value_counts()"
   ]
  },
  {
   "cell_type": "markdown",
   "id": "d8928341",
   "metadata": {},
   "source": [
    "Constructing 'Feature_3' by applying specific rules to the 'Group', 'Feature_1', and 'Feature_2' columns."
   ]
  },
  {
   "cell_type": "code",
   "execution_count": 7,
   "id": "7404d0cd",
   "metadata": {},
   "outputs": [],
   "source": [
    "fake_data['Feature_3'] = np.nan\n",
    "\n",
    "# Compute Feature_3 for each group\n",
    "fake_data.loc[fake_data['Group'] == 'A', 'Feature_3'] = 3 * fake_data['Feature_1'] - 5 * fake_data['Feature_2']\n",
    "fake_data.loc[fake_data['Group'] == 'B', 'Feature_3'] = 2 * fake_data['Feature_1']\n",
    "fake_data.loc[fake_data['Group'] == 'C', 'Feature_3'] = -fake_data['Feature_1'] + fake_data['Feature_2']\n",
    "\n"
   ]
  },
  {
   "cell_type": "markdown",
   "id": "c335c0cc",
   "metadata": {},
   "source": [
    "Introducing an 'Additional Component' to the data, sampled from a normal distribution with a mean of 0 and a standard deviation of 12."
   ]
  },
  {
   "cell_type": "code",
   "execution_count": 8,
   "id": "9882cb2b",
   "metadata": {},
   "outputs": [],
   "source": [
    "mean = 0\n",
    "std = 12\n",
    "add_component = sps.norm.rvs(mean, std, size=n)\n",
    "fake_data['Feature_3'] += add_component\n"
   ]
  },
  {
   "cell_type": "code",
   "execution_count": 9,
   "id": "f22a2d60",
   "metadata": {},
   "outputs": [
    {
     "data": {
      "text/html": [
       "<div>\n",
       "<style scoped>\n",
       "    .dataframe tbody tr th:only-of-type {\n",
       "        vertical-align: middle;\n",
       "    }\n",
       "\n",
       "    .dataframe tbody tr th {\n",
       "        vertical-align: top;\n",
       "    }\n",
       "\n",
       "    .dataframe thead th {\n",
       "        text-align: right;\n",
       "    }\n",
       "</style>\n",
       "<table border=\"1\" class=\"dataframe\">\n",
       "  <thead>\n",
       "    <tr style=\"text-align: right;\">\n",
       "      <th></th>\n",
       "      <th>ID</th>\n",
       "      <th>Group</th>\n",
       "      <th>Feature_1</th>\n",
       "      <th>Feature_2</th>\n",
       "      <th>Feature_3</th>\n",
       "    </tr>\n",
       "  </thead>\n",
       "  <tbody>\n",
       "    <tr>\n",
       "      <th>0</th>\n",
       "      <td>ID763</td>\n",
       "      <td>C</td>\n",
       "      <td>2300.674377</td>\n",
       "      <td>428.925201</td>\n",
       "      <td>-1880.903675</td>\n",
       "    </tr>\n",
       "    <tr>\n",
       "      <th>1</th>\n",
       "      <td>ID204</td>\n",
       "      <td>C</td>\n",
       "      <td>2961.686578</td>\n",
       "      <td>395.100986</td>\n",
       "      <td>-2556.618639</td>\n",
       "    </tr>\n",
       "    <tr>\n",
       "      <th>2</th>\n",
       "      <td>ID734</td>\n",
       "      <td>C</td>\n",
       "      <td>2531.192524</td>\n",
       "      <td>367.370380</td>\n",
       "      <td>-2153.187626</td>\n",
       "    </tr>\n",
       "    <tr>\n",
       "      <th>3</th>\n",
       "      <td>ID422</td>\n",
       "      <td>B</td>\n",
       "      <td>2349.447507</td>\n",
       "      <td>391.014494</td>\n",
       "      <td>4690.569513</td>\n",
       "    </tr>\n",
       "    <tr>\n",
       "      <th>4</th>\n",
       "      <td>ID559</td>\n",
       "      <td>C</td>\n",
       "      <td>1919.307848</td>\n",
       "      <td>415.506138</td>\n",
       "      <td>-1491.942046</td>\n",
       "    </tr>\n",
       "  </tbody>\n",
       "</table>\n",
       "</div>"
      ],
      "text/plain": [
       "      ID Group    Feature_1   Feature_2    Feature_3\n",
       "0  ID763     C  2300.674377  428.925201 -1880.903675\n",
       "1  ID204     C  2961.686578  395.100986 -2556.618639\n",
       "2  ID734     C  2531.192524  367.370380 -2153.187626\n",
       "3  ID422     B  2349.447507  391.014494  4690.569513\n",
       "4  ID559     C  1919.307848  415.506138 -1491.942046"
      ]
     },
     "execution_count": 9,
     "metadata": {},
     "output_type": "execute_result"
    }
   ],
   "source": [
    "fake_data.head()"
   ]
  },
  {
   "cell_type": "markdown",
   "id": "4cf66a6f",
   "metadata": {},
   "source": [
    "Identifying samples that exceed the value of 3000, as per the theoretical distribution model."
   ]
  },
  {
   "cell_type": "code",
   "execution_count": 10,
   "id": "9e13bd4c",
   "metadata": {},
   "outputs": [
    {
     "name": "stdout",
     "output_type": "stream",
     "text": [
      "Estimated count of samples over 3000: 38\n"
     ]
    }
   ],
   "source": [
    "from scipy.stats import norm\n",
    "\n",
    "# Define the mean and standard deviation\n",
    "average = 2500\n",
    "standard_deviation = 300\n",
    "\n",
    "# Calculate the Z-score for the value 3000\n",
    "z_value = (3000 - average) / standard_deviation\n",
    "\n",
    "# Determine the fraction of the distribution exceeding the Z-score\n",
    "fraction_exceeding_3000 = 1 - norm.cdf(z_value)\n",
    "\n",
    "# Calculate the estimated count of samples over 3000\n",
    "estimated_count_above_3000 = round(n * fraction_exceeding_3000)\n",
    "\n",
    "print(\"Estimated count of samples over 3000:\", estimated_count_above_3000)\n"
   ]
  },
  {
   "cell_type": "markdown",
   "id": "2dd16c0a",
   "metadata": {},
   "source": [
    "Selection of samples from the dataset that have values exceeding 3000."
   ]
  },
  {
   "cell_type": "code",
   "execution_count": 11,
   "id": "673784eb",
   "metadata": {},
   "outputs": [
    {
     "data": {
      "text/plain": [
       "52"
      ]
     },
     "execution_count": 11,
     "metadata": {},
     "output_type": "execute_result"
    }
   ],
   "source": [
    "sum(fake_data['Feature_1']>3000)"
   ]
  },
  {
   "cell_type": "markdown",
   "id": "aefb1124",
   "metadata": {},
   "source": [
    "Calculation of the mean and standard deviation for 'Feature_3' separately within each individual group."
   ]
  },
  {
   "cell_type": "code",
   "execution_count": 12,
   "id": "a31b6982",
   "metadata": {},
   "outputs": [
    {
     "name": "stdout",
     "output_type": "stream",
     "text": [
      "              mean         std\n",
      "Group                         \n",
      "A      5533.423916  932.585251\n",
      "B      5009.984485  631.213866\n",
      "C     -2121.707350  304.664669\n"
     ]
    }
   ],
   "source": [
    "grouped_data = fake_data.groupby('Group')['Feature_3'].agg(['mean', 'std'])\n",
    "\n",
    "print(grouped_data)"
   ]
  },
  {
   "cell_type": "markdown",
   "id": "4041ff03",
   "metadata": {},
   "source": [
    "Creating a scatter plot to visually represent the relationship between 'Feature_3' and 'Feature_1'."
   ]
  },
  {
   "cell_type": "code",
   "execution_count": 13,
   "id": "5274668f",
   "metadata": {},
   "outputs": [
    {
     "data": {
      "image/png": "[encoded data removed]",
      "text/plain": [
       "<Figure size 640x480 with 1 Axes>"
      ]
     },
     "metadata": {},
     "output_type": "display_data"
    }
   ],
   "source": [
    "import matplotlib.pyplot as plt\n",
    "\n",
    "# Plotting data points from 'fake_data' for 'Feature_1' and 'Feature_3'\n",
    "plt.scatter(x=fake_data['Feature_1'], y=fake_data['Feature_3'])\n",
    "\n",
    "# Setting labels for the x-axis and y-axis\n",
    "plt.xlabel('Feature_1')\n",
    "plt.ylabel('Feature_3')\n",
    "\n",
    "# Adding a title to the scatter plot\n",
    "plt.title('Feature_3 versus Feature_1 Scatter Plot')\n",
    "\n",
    "# Displaying the plot\n",
    "plt.show()\n"
   ]
  },
  {
   "cell_type": "markdown",
   "id": "13c5b4b5",
   "metadata": {},
   "source": [
    "Exporting the DataFrame into a CSV file named 'fake_data.csv'."
   ]
  },
  {
   "cell_type": "code",
   "execution_count": 14,
   "id": "1e700d20",
   "metadata": {},
   "outputs": [],
   "source": [
    "fake_data.to_csv('fake_data.csv', index=False)"
   ]
  }
 ],
 "metadata": {
  "kernelspec": {
   "display_name": "Python 3 (ipykernel)",
   "language": "python",
   "name": "python3"
  },
  "language_info": {
   "codemirror_mode": {
    "name": "ipython",
    "version": 3
   },
   "file_extension": ".py",
   "mimetype": "text/x-python",
   "name": "python",
   "nbconvert_exporter": "python",
   "pygments_lexer": "ipython3",
   "version": "3.11.5"
  }
 },
 "nbformat": 4,
 "nbformat_minor": 5
}
