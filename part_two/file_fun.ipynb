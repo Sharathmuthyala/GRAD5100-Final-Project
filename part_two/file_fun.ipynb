{
 "cells": [
  {
   "cell_type": "code",
   "execution_count": 1,
   "metadata": {},
   "outputs": [
    {
     "data": {
      "text/plain": [
       "['ZCOPM.py',\n",
       " 'WREZP.py',\n",
       " 'BOCOV.txt',\n",
       " 'TRNPP.txt',\n",
       " 'PXFVT.py',\n",
       " 'NQLMN.py',\n",
       " 'JOIBU.txt',\n",
       " 'XAGTS.py',\n",
       " 'ICOSX.py',\n",
       " 'ORWMC.py',\n",
       " 'LRCWT.txt',\n",
       " 'JTANV.py',\n",
       " 'MTNKQ.py',\n",
       " 'SFUAN.txt',\n",
       " 'AINQQ.py',\n",
       " 'BRITJ.txt',\n",
       " 'CVVAW.txt',\n",
       " 'EEYIX.csv',\n",
       " 'YUPAG.txt',\n",
       " 'VVKWW.py',\n",
       " 'WDNBE.txt',\n",
       " 'RHAYN.py',\n",
       " 'OFDGE.txt',\n",
       " 'XSMJD.txt',\n",
       " 'ECXJA.csv',\n",
       " 'FFXUT.py',\n",
       " 'AHKAM.csv',\n",
       " 'OIJJU.txt',\n",
       " 'NJSBK.txt',\n",
       " 'GJPTS.csv',\n",
       " 'OAUWT.txt',\n",
       " 'JQNZU.csv',\n",
       " 'RNFVB.csv',\n",
       " 'APZTE.py',\n",
       " 'BUIAR.txt',\n",
       " 'GGHZL.txt',\n",
       " 'UYHCG.csv',\n",
       " 'GSRFM.txt',\n",
       " 'CGOHK.py',\n",
       " 'UEUTJ.csv',\n",
       " 'BXXNW.csv',\n",
       " 'YNOGN.txt',\n",
       " 'TTGSR.txt',\n",
       " 'DHACA.csv',\n",
       " 'XKLIA.csv',\n",
       " 'CDUFO.csv',\n",
       " 'LYRQF.txt',\n",
       " 'LZCWS.txt',\n",
       " 'KTWBT.txt',\n",
       " 'BCTOB.txt']"
      ]
     },
     "execution_count": 1,
     "metadata": {},
     "output_type": "execute_result"
    }
   ],
   "source": [
    "def extract_code_and_extension(code_str):\n",
    "    parts = code_str.split('_')\n",
    "    if len(parts) == 3:\n",
    "        return f\"{parts[1]}.{parts[2]}\"\n",
    "    else:\n",
    "        return \"Invalid format\"\n",
    " \n",
    "\n",
    "with open(\"codes.txt\", 'r') as file:\n",
    "    lines = file.readlines()\n",
    "\n",
    "# Extracting code and extension for each line\n",
    "extracted_data = [extract_code_and_extension(line.strip()) for line in lines]\n",
    "extracted_data[::]\n"
   ]
  },
  {
   "cell_type": "code",
   "execution_count": 4,
   "metadata": {},
   "outputs": [
    {
     "data": {
      "text/plain": [
       "['VVKWW.py', 'MTNKQ.py', 'JQNZU.csv', 'CGOHK.py', 'LRCWT.txt']"
      ]
     },
     "execution_count": 4,
     "metadata": {},
     "output_type": "execute_result"
    }
   ],
   "source": [
    "import os\n",
    "\n",
    "def create_files_with_codes(file_path):\n",
    "    expanded_dir = 'expanded'\n",
    "    os.makedirs(expanded_dir, exist_ok=True)\n",
    "\n",
    "    with open(file_path, 'r') as file:\n",
    "        for line in file:\n",
    "            parts = line.strip().split('_')\n",
    "            if len(parts) == 3:\n",
    "                number, code, extension = parts\n",
    "                file_name = f\"{expanded_dir}/{code}.{extension}\"\n",
    "                with open(file_name, 'w') as output_file:\n",
    "                    output_file.write(number)\n",
    "\n",
    "# Calling the function\n",
    "create_files_with_codes(\"codes.txt\")\n",
    "\n",
    "# Checking if files are created correctly\n",
    "os.listdir('expanded')[:5]  # Displaying the first 5 file names for verification\n"
   ]
  }
 ],
 "metadata": {
  "kernelspec": {
   "display_name": "Python 3",
   "language": "python",
   "name": "python3"
  },
  "language_info": {
   "codemirror_mode": {
    "name": "ipython",
    "version": 3
   },
   "file_extension": ".py",
   "mimetype": "text/x-python",
   "name": "python",
   "nbconvert_exporter": "python",
   "pygments_lexer": "ipython3",
   "version": "3.11.5"
  }
 },
 "nbformat": 4,
 "nbformat_minor": 2
}
